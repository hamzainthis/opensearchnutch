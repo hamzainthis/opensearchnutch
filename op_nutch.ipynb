{
 "cells": [
  {
   "cell_type": "code",
   "execution_count": 1,
   "metadata": {},
   "outputs": [
    {
     "data": {
      "application/vnd.jupyter.widget-view+json": {
       "model_id": "a5150b13faff462187a169eeb4aad0a3",
       "version_major": 2,
       "version_minor": 0
      },
      "text/plain": [
       "Text(value='', description='Query:', placeholder='Type something')"
      ]
     },
     "metadata": {},
     "output_type": "display_data"
    },
    {
     "data": {
      "application/vnd.jupyter.widget-view+json": {
       "model_id": "ae27fd959fbc447cae5268c97959b0aa",
       "version_major": 2,
       "version_minor": 0
      },
      "text/plain": [
       "Output()"
      ]
     },
     "metadata": {},
     "output_type": "display_data"
    }
   ],
   "source": [
    "import json\n",
    "import requests\n",
    "import ipywidgets as widgets\n",
    "from IPython.display import clear_output, Markdown, display\n",
    "from time import time\n",
    "\n",
    "endpoint = \"http://localhost:9200\"\n",
    "username = \"admin\"\n",
    "password = \"admin\"\n",
    "\n",
    "def search_prefix(keywords):\n",
    "    if not keywords:\n",
    "        return None\n",
    "    keywords = keywords.split(' ')\n",
    "    if len(keywords) > 1:\n",
    "        prefix = keywords[-1]\n",
    "        phrase = ' '.join(keywords[:-1])\n",
    "        query = {\n",
    "            'query': {\n",
    "                'bool': {\n",
    "                    'must': [\n",
    "                        {\n",
    "                            'prefix': {\n",
    "                                'title': prefix\n",
    "                            }\n",
    "                        },\n",
    "                        {\n",
    "                            'match': {\n",
    "                                'title': {\n",
    "                                    'query': phrase,\n",
    "                                    'minimum_should_match': '100%'\n",
    "                                }\n",
    "                            }\n",
    "                        }\n",
    "                    ]\n",
    "                }\n",
    "            }\n",
    "        }\n",
    "    else:\n",
    "        keywords = ' '.join(keywords)\n",
    "        query = {\n",
    "            'query': {\n",
    "                'prefix': {\n",
    "                    'title': keywords\n",
    "                }\n",
    "            }\n",
    "        }\n",
    "\n",
    "    query = json.dumps(query)\n",
    "\n",
    "    url = endpoint + '/nutch/_search'\n",
    "    r = requests.post(url, \n",
    "                      auth=(username, password), \n",
    "                      data=query, \n",
    "                      headers={'Content-type': 'application/json'})\n",
    "    return r.json()\n",
    "\n",
    "def bold(result, keywords):\n",
    "    \"\"\"Bold keywords in the result\"\"\"\n",
    "    keywords = keywords.strip().split(' ')\n",
    "    for keyword in keywords:\n",
    "        result = result.replace(keyword, f\"**{keyword}**\")\n",
    "        keyword = keyword.title()\n",
    "        result = result.replace(keyword, f\"**{keyword}**\")\n",
    "    return result\n",
    "\n",
    "def truncate_text(content, max_lines=6):\n",
    "    \"\"\"Truncate content to a maximum number of lines\"\"\"\n",
    "    lines = content.split('\\n')\n",
    "    truncated = '\\n'.join(lines[:max_lines])\n",
    "    return truncated + '...' if len(lines) > max_lines else truncated\n",
    "\n",
    "def format_result(res, keywords):\n",
    "    \"\"\"Format the result for display\"\"\"\n",
    "    title = bold(res.get('title', 'No Title'), keywords)\n",
    "    content = bold(truncate_text(res.get('content', 'No Content')), keywords)\n",
    "    doc_id = res.get('id', '#')\n",
    "    \n",
    "    # Use the ID as a hyperlink for the title\n",
    "    return f\"### [{title}]({doc_id})\\n\\n{content}\"\n",
    "\n",
    "def printmd(string):\n",
    "    \"\"\"Wrapper function to display markdown\"\"\"\n",
    "    display(Markdown(string))\n",
    "\n",
    "def text_change(change):\n",
    "    \"\"\"Widget event when the value changes\"\"\"\n",
    "    global output\n",
    "    with output:\n",
    "        clear_output()\n",
    "        t0 = time()\n",
    "        results = search_prefix(change['new'])\n",
    "        if results:\n",
    "            hits = results['hits']['hits']\n",
    "            print_text = []\n",
    "            for res in hits[:]:\n",
    "                res = res['_source']\n",
    "                print_text.append(format_result(res, change['new']))\n",
    "            printmd('<br><br>'.join(print_text))\n",
    "            if hits:\n",
    "                print(f'\\n{round(time() - t0, 4)} seconds')\n",
    "\n",
    "box = widgets.Text(\n",
    "         value='',\n",
    "         placeholder='Type something',\n",
    "         description='Query:',\n",
    "         disabled=False\n",
    "     )\n",
    "output = widgets.Output()\n",
    "display(box, output)\n",
    "box.observe(text_change, names='value')\n"
   ]
  }
 ],
 "metadata": {
  "kernelspec": {
   "display_name": "base",
   "language": "python",
   "name": "python3"
  },
  "language_info": {
   "codemirror_mode": {
    "name": "ipython",
    "version": 3
   },
   "file_extension": ".py",
   "mimetype": "text/x-python",
   "name": "python",
   "nbconvert_exporter": "python",
   "pygments_lexer": "ipython3",
   "version": "3.12.4"
  }
 },
 "nbformat": 4,
 "nbformat_minor": 2
}
